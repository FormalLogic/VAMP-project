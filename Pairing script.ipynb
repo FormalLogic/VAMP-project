{
 "cells": [
  {
   "cell_type": "markdown",
   "metadata": {},
   "source": [
    "# Pairing script for VAMP\n",
    "\n",
    "## 1. Set up\n",
    "\n",
    "- Load csv file into a dataframe\n",
    "    - Gender, Location, and Nationality are loaded as categorical\n",
    "    - The cell below is only when the python script is run locally and not in Google Collab. See next section 1.1\n",
    "- Initialize variables\n",
    "    - *teamNumberIndex* keeps track of which team is currently being build\n",
    "    - *teamSize* is the amount of students in a team\n",
    "    - *df_teams* will be the dataframe where we save the teams computed."
   ]
  },
  {
   "cell_type": "code",
   "execution_count": 1,
   "metadata": {},
   "outputs": [],
   "source": [
    "import math\n",
    "import pandas as pd\n",
    "import numpy as np\n",
    "\n",
    "#The following 3 lines deals with displaying the results neatly\n",
    "pd.options.display.max_columns = None\n",
    "pd.options.display.max_rows = None\n",
    "pd.options.display.width = None \n",
    "\n",
    "#Initialize variables\n",
    "teamNumberIndex = 0\n",
    "teamSize = 4\n",
    "\n",
    "#Load the data (This line will fail if script is run on Google Colaboraty, see next section)\n",
    "df = pd.read_csv('MOCK_DATA.csv', dtype={'Gender' : 'category', 'Location' : 'category', 'Nationality' : 'category'})\n",
    "\n",
    "#Create a dataframe to store team results\n",
    "df_teams = pd.DataFrame(columns=['first_name', 'last_name', 'Team'])\n",
    "\n",
    "#Add a new collumn which keeps track of which student has been put into team so far\n",
    "df['studentID'] = np.arange(len(df))\n",
    "#del df['id']"
   ]
  },
  {
   "cell_type": "markdown",
   "metadata": {},
   "source": [
    "### 1.1 Uploading files to google collab\n",
    "The previous cell only loads the data using. If the script is run on Google Collab, then it is first necessary to upload the file and then load it into a data frame\n"
   ]
  },
  {
   "cell_type": "code",
   "execution_count": null,
   "metadata": {},
   "outputs": [],
   "source": [
    "from google.colab import files\n",
    "#Upload the file\n",
    "uploaded = files.upload()"
   ]
  },
  {
   "cell_type": "code",
   "execution_count": null,
   "metadata": {},
   "outputs": [],
   "source": [
    "import io\n",
    "#Load the files into a dataframe\n",
    "df = pd.read_csv(io.BytesIO(uploaded['MOCK_DATA.csv']), dtype={'Gender' : 'category', 'Location' : 'category', 'Nationality' : 'category'})"
   ]
  },
  {
   "cell_type": "markdown",
   "metadata": {},
   "source": [
    "## 2. Understand the data\n",
    "\n",
    "The cells below are commands use to understand the data. For cate"
   ]
  },
  {
   "cell_type": "code",
   "execution_count": 2,
   "metadata": {
    "scrolled": true
   },
   "outputs": [
    {
     "data": {
      "text/plain": [
       "count    100.000000\n",
       "mean      22.130000\n",
       "std        2.376888\n",
       "min       18.000000\n",
       "25%       20.000000\n",
       "50%       22.000000\n",
       "75%       23.000000\n",
       "max       29.000000\n",
       "Name: Age, dtype: float64"
      ]
     },
     "execution_count": 2,
     "metadata": {},
     "output_type": "execute_result"
    }
   ],
   "source": [
    "df.Age.describe()"
   ]
  },
  {
   "cell_type": "code",
   "execution_count": 3,
   "metadata": {},
   "outputs": [
    {
     "data": {
      "text/plain": [
       "South west    23\n",
       "Center        22\n",
       "South east    20\n",
       "North west    20\n",
       "North east    15\n",
       "Name: Location, dtype: int64"
      ]
     },
     "execution_count": 3,
     "metadata": {},
     "output_type": "execute_result"
    }
   ],
   "source": [
    "df['Location'].value_counts()"
   ]
  },
  {
   "cell_type": "code",
   "execution_count": 4,
   "metadata": {},
   "outputs": [
    {
     "data": {
      "text/plain": [
       "count            100\n",
       "unique             5\n",
       "top       South west\n",
       "freq              23\n",
       "Name: Location, dtype: object"
      ]
     },
     "execution_count": 4,
     "metadata": {},
     "output_type": "execute_result"
    }
   ],
   "source": [
    "df.Location.describe()"
   ]
  },
  {
   "cell_type": "code",
   "execution_count": 5,
   "metadata": {},
   "outputs": [
    {
     "data": {
      "text/plain": [
       "count       100\n",
       "unique       40\n",
       "top       China\n",
       "freq         16\n",
       "Name: Nationality, dtype: object"
      ]
     },
     "execution_count": 5,
     "metadata": {},
     "output_type": "execute_result"
    }
   ],
   "source": [
    "df.Nationality.describe()"
   ]
  },
  {
   "cell_type": "markdown",
   "metadata": {},
   "source": [
    "## 3. Search for a team\n",
    "The following were the criteria for a team\n",
    "\n",
    "- Gender diversity\n",
    "- Diversity in nationalities\n",
    "- Student who live live near each other should be paired up\n",
    "\n",
    "Getting students from the same location is done easily in pandas. The operation is described as removing rows (students) from the dataframe which satisfies a boolean. In other words, only consider a subset of students who are in the same location. The following python line creates a new dataframe with all of the students who are in the same location.\n",
    "\n",
    "*df_condition = df[df.Location == 'South east']*\n",
    "\n",
    "The other two conditions is harder to satisfy. An randomized approached will be taken where a user manually checks whether the students randomly matched is 'satisfiable.' If not, then re-run the cell and another set up students will be randomly matched up within the same location. \n"
   ]
  },
  {
   "cell_type": "code",
   "execution_count": 6,
   "metadata": {
    "scrolled": true
   },
   "outputs": [
    {
     "name": "stdout",
     "output_type": "stream",
     "text": [
      "There are 100 student left\n",
      "\n",
      " \n",
      " Random search gave the following potential team \n",
      "\n",
      "     first_name last_name  Gender    Location Nationality  Age  studentID\n",
      "64  Mariejeanne  Lindmark  Female  South east  Kazakhstan   22         64\n",
      "46       Lynett   Postans  Female  South east       China   24         46\n",
      "21         Mari      Jory  Female  South east       China   22         21\n",
      "20         Boyd     Ingle    Male  South east       China   23         20\n"
     ]
    }
   ],
   "source": [
    "\n",
    "\n",
    "print(\"There are {0} student left\".format(len(df))) \n",
    "\n",
    "df_condition = df[df.Location == 'South east']            \n",
    "\n",
    "    \n",
    "#Select 4 random to be put into a group from the new dataframe which includes only students from South east\n",
    "selectedStudents = np.random.choice(df_condition['studentID'].values, teamSize, replace = False)\n",
    "team = df.loc[selectedStudents]\n",
    "print(\"\\n \\n Random search gave the following potential team \\n\")\n",
    "print(team)\n",
    "\n",
    "\n",
    "\n"
   ]
  },
  {
   "cell_type": "markdown",
   "metadata": {},
   "source": [
    "## 4. Team creation\n",
    "\n",
    "If the above team attributes looks acceptable then we will.\n",
    "\n",
    "- Adds the team of students to our final dataframe containing all of our teams (*df_teams*)\n",
    "- Remove the team of students from the dataframe object which includes all of the unteamed students\n",
    "\n"
   ]
  },
  {
   "cell_type": "code",
   "execution_count": 7,
   "metadata": {},
   "outputs": [
    {
     "name": "stdout",
     "output_type": "stream",
     "text": [
      "Teams found so far \n",
      " \n",
      "     first_name last_name Team  Gender    Location Nationality   Age  \\\n",
      "64  Mariejeanne  Lindmark    1  Female  South east  Kazakhstan  22.0   \n",
      "46       Lynett   Postans    1  Female  South east       China  24.0   \n",
      "21         Mari      Jory    1  Female  South east       China  22.0   \n",
      "20         Boyd     Ingle    1    Male  South east       China  23.0   \n",
      "\n",
      "    studentID  \n",
      "64       64.0  \n",
      "46       46.0  \n",
      "21       21.0  \n",
      "20       20.0  \n",
      "\n",
      " \n",
      " unteamed students \n",
      " \n",
      "    first_name   last_name  Gender    Location  \\\n",
      "0        Ellis      Mossop    Male      Center   \n",
      "1        Neale     Millins    Male  South west   \n",
      "2       Leelah    Baudains  Female  North west   \n",
      "3      Mattias      Grimme    Male  North west   \n",
      "4       Lucila     Wornham  Female  South east   \n",
      "5     Christen       Scare  Female  North west   \n",
      "6      Jsandye    Dwelling  Female  North west   \n",
      "7       Tracey      Downey  Female  North east   \n",
      "8        Lukas      Casari    Male      Center   \n",
      "9      Doralia     Siddele  Female      Center   \n",
      "10       Gerik    Addicott    Male      Center   \n",
      "11     Norbert  Cattermoul    Male  South west   \n",
      "12       Katie      Hanner  Female  South west   \n",
      "13  Beauregard  Burkinshaw    Male  North east   \n",
      "14     Coleman      Vannah    Male  North east   \n",
      "15     Robinet      Bastie    Male  South west   \n",
      "16      Jarrod     Parnaby    Male      Center   \n",
      "17      Ginnie       Durno  Female  North west   \n",
      "18      Filmer        Odda    Male  South west   \n",
      "19       Elton     Gripton    Male  North east   \n",
      "22      Delmor      Wankel    Male  North east   \n",
      "23       Symon       Peers    Male  North east   \n",
      "24       Abbie     Fitzroy    Male      Center   \n",
      "25     Maribel     Dawbury  Female  North west   \n",
      "26   Siegfried      Farnin    Male  South east   \n",
      "27     Lyndsay      Layson  Female  North west   \n",
      "28         Ruy    Guillard    Male      Center   \n",
      "29    Adelbert       Boyes    Male      Center   \n",
      "30      Taddeo    Martinon    Male  South west   \n",
      "31    Doralynn    Pretsell  Female  South west   \n",
      "32       Jesse     Lindman    Male  South west   \n",
      "33       Alane    Pakenham  Female  South west   \n",
      "34      Fawnia    Robuchon  Female  South east   \n",
      "35      Darbie      Bertot  Female  North west   \n",
      "36      Vinnie        Keme    Male  South east   \n",
      "37      Pattie  Shackleton  Female  North west   \n",
      "38   Frederico      Truter    Male      Center   \n",
      "39     Justinn      Wittke  Female  South west   \n",
      "40     Filippo   Llewellyn    Male  South east   \n",
      "41    Aloysius    Jepensen    Male  South west   \n",
      "42        Odie      Felder    Male      Center   \n",
      "43     Rosalia      Olfert  Female      Center   \n",
      "44     Blinnie       Crees  Female  North west   \n",
      "45    Cristian     Lawrenz    Male      Center   \n",
      "47   Henrietta     Beceril  Female  North east   \n",
      "48       Roger       Durno    Male  North west   \n",
      "49      Brande    Pearmine  Female  North east   \n",
      "50       Sophi     Furnell  Female  South east   \n",
      "51       Regan      Tungay    Male  South east   \n",
      "52       Davie      Dupree    Male  North east   \n",
      "53       Sibyl      Ambrus    Male  South east   \n",
      "54        Pate  Franceschi    Male  South west   \n",
      "55       Arvin     De Metz    Male  North west   \n",
      "56       Kiley      Huggen    Male      Center   \n",
      "57    Christan        Pohl  Female  South west   \n",
      "58    Teresina      Elcome  Female  North west   \n",
      "59     Brittan   Breadmore  Female  North west   \n",
      "60      Lilith    Wrennall  Female  South west   \n",
      "61      Yancey     Curnick    Male  South west   \n",
      "62      Lindie      Haugen  Female      Center   \n",
      "63      Clemmy     Rubinov  Female  South west   \n",
      "65      Elliot      McGuff    Male  South east   \n",
      "66         Rey     Kingman  Female  North west   \n",
      "67      Allyce   Grimbleby  Female      Center   \n",
      "68         Lia       Brien  Female  South west   \n",
      "69       Linzy      Willas  Female      Center   \n",
      "70    Greggory     Dreinan    Male  South west   \n",
      "71      Anders      Rayner    Male  South east   \n",
      "72    Ricoriki   McCaskell    Male  South east   \n",
      "73        Bart         Sey    Male  North west   \n",
      "74     Celisse    Witchell  Female  South west   \n",
      "75      Salmon         Jee    Male      Center   \n",
      "76      Andeee      McNeil  Female  South west   \n",
      "77       Euell      Wogdon    Male  North east   \n",
      "78     Sauncho       Aslum    Male  North east   \n",
      "79    Clotilda  Camilletti  Female  North east   \n",
      "80      Tomkin       Tatum    Male      Center   \n",
      "81        Dodi    Breewood  Female      Center   \n",
      "82       Berti     Pattlel  Female  South east   \n",
      "83      Chicky     Mushart    Male  North east   \n",
      "84       Janet      Ardron  Female  South west   \n",
      "85       Nigel    McKeever    Male  South east   \n",
      "86        Ebba     Rolston  Female  South east   \n",
      "87     Tamqrah     Donovan  Female      Center   \n",
      "88      Hollie  Thornewell  Female  North east   \n",
      "89        Kora      Sowood  Female  South east   \n",
      "90       Elset    Lelliott  Female  North west   \n",
      "91    Jessalyn    Thickens  Female  South east   \n",
      "92       Agace      Fozard  Female  South west   \n",
      "93       Gerri      Salter  Female  North west   \n",
      "94       Poppy    Sherratt  Female  South west   \n",
      "95    Federica       Quant  Female      Center   \n",
      "96     Talbert     Harring    Male      Center   \n",
      "97  Cassaundra   Grimbleby  Female  North west   \n",
      "98      Melesa    Witcombe  Female  North west   \n",
      "99         Lon       Eteen    Male  North east   \n",
      "\n",
      "                         Nationality  Age  studentID  \n",
      "0                        Philippines   19          0  \n",
      "1                          Indonesia   25          1  \n",
      "2                              Niger   20          2  \n",
      "3                          Indonesia   19          3  \n",
      "4                              Japan   27          4  \n",
      "5                          Indonesia   18          5  \n",
      "6                            Belarus   20          6  \n",
      "7              Palestinian Territory   20          7  \n",
      "8                             Latvia   23          8  \n",
      "9                           Ethiopia   24          9  \n",
      "10                         Indonesia   25         10  \n",
      "11                             China   18         11  \n",
      "12                            Russia   25         12  \n",
      "13                             Benin   22         13  \n",
      "14                            Brazil   23         14  \n",
      "15                            Brazil   19         15  \n",
      "16                             China   20         16  \n",
      "17                              Iran   26         17  \n",
      "18                              Cuba   27         18  \n",
      "19                    Czech Republic   28         19  \n",
      "22  Democratic Republic of the Congo   22         22  \n",
      "23                       Philippines   24         23  \n",
      "24                     United States   22         24  \n",
      "25                         Indonesia   21         25  \n",
      "26                    United Kingdom   21         26  \n",
      "27                            France   21         27  \n",
      "28                             China   24         28  \n",
      "29                            Poland   22         29  \n",
      "30                         Macedonia   22         30  \n",
      "31                         Argentina   23         31  \n",
      "32                            Greece   26         32  \n",
      "33                           Nigeria   22         33  \n",
      "34                            Russia   26         34  \n",
      "35                             China   23         35  \n",
      "36                         Indonesia   25         36  \n",
      "37                          Tanzania   23         37  \n",
      "38                       Philippines   20         38  \n",
      "39                          Ethiopia   19         39  \n",
      "40                            Greece   25         40  \n",
      "41                          Portugal   21         41  \n",
      "42                              Cuba   22         42  \n",
      "43                          Botswana   21         43  \n",
      "44                     United States   23         44  \n",
      "45                    Czech Republic   22         45  \n",
      "47                            France   21         47  \n",
      "48                       El Salvador   20         48  \n",
      "49                            Taiwan   20         49  \n",
      "50                          Thailand   21         50  \n",
      "51                             Niger   22         51  \n",
      "52                             China   29         52  \n",
      "53                     United States   22         53  \n",
      "54                          Portugal   21         54  \n",
      "55                             China   21         55  \n",
      "56                            Brazil   24         56  \n",
      "57                             Syria   22         57  \n",
      "58                              Cuba   22         58  \n",
      "59                            Poland   21         59  \n",
      "60                         Indonesia   19         60  \n",
      "61                            Sweden   18         61  \n",
      "62                       Philippines   20         62  \n",
      "63                            Sweden   21         63  \n",
      "65                             Chile   20         65  \n",
      "66                            Sweden   20         66  \n",
      "67                          Zimbabwe   21         67  \n",
      "68                         Indonesia   27         68  \n",
      "69                       El Salvador   25         69  \n",
      "70                             China   20         70  \n",
      "71                             China   21         71  \n",
      "72                       Philippines   19         72  \n",
      "73                          Pakistan   20         73  \n",
      "74                          Portugal   23         74  \n",
      "75                            Poland   23         75  \n",
      "76                             China   29         76  \n",
      "77                             China   21         77  \n",
      "78                         Indonesia   21         78  \n",
      "79                             China   21         79  \n",
      "80            Bosnia and Herzegovina   20         80  \n",
      "81                       North Korea   21         81  \n",
      "82                             China   20         82  \n",
      "83                            Gambia   23         83  \n",
      "84                            France   20         84  \n",
      "85                         Indonesia   24         85  \n",
      "86                     United States   25         86  \n",
      "87                            Greece   23         87  \n",
      "88                     United States   21         88  \n",
      "89                             China   20         89  \n",
      "90                         Indonesia   22         90  \n",
      "91                        Kazakhstan   23         91  \n",
      "92                       Philippines   24         92  \n",
      "93                       Philippines   21         93  \n",
      "94                             Japan   21         94  \n",
      "95                         Indonesia   22         95  \n",
      "96                             Benin   20         96  \n",
      "97                       Netherlands   21         97  \n",
      "98                           Nigeria   25         98  \n",
      "99                          Portugal   23         99  \n"
     ]
    }
   ],
   "source": [
    "teamNumberIndex = teamNumberIndex + 1\n",
    "\n",
    "#Remove students from the dataframe containing all of the unteamed students\n",
    "df = df.drop(selectedStudents)\n",
    "\n",
    "#Create a new collumn where we denote the team number\n",
    "team['Team'] = [teamNumberIndex]*teamSize\n",
    "#Remove uncesserary collumns from the final team output\n",
    "#team = team.drop(['Gender', 'Nationality', 'Age', 'Location', 'studentID'],axis=1)\n",
    "\n",
    "\n",
    "#Add the found team to our dataframe containing all of the teams\n",
    "df_teams = df_teams.append(team)\n",
    "\n",
    "print(\"Teams found so far \\n \")\n",
    "print(df_teams)\n",
    "\n",
    "print(\"\\n \\n unteamed students \\n \")\n",
    "print(df)"
   ]
  },
  {
   "cell_type": "markdown",
   "metadata": {},
   "source": [
    "## 5. Output results \n",
    "- Output results to an excel file\n",
    "- Excel file will be posted to a folder called 'results' (the **results** folder is located in the same folder as the jupyter notebook)"
   ]
  },
  {
   "cell_type": "code",
   "execution_count": 8,
   "metadata": {},
   "outputs": [],
   "source": [
    "df_teams.to_excel(\"results/teams.xls\")"
   ]
  },
  {
   "cell_type": "markdown",
   "metadata": {},
   "source": [
    "## 6. Conclusion\n",
    "Re-run section 3 and 4 until all students have been give into a team. If there is uneven amount of students left unteamed, then just group these students manually.\n"
   ]
  }
 ],
 "metadata": {
  "kernelspec": {
   "display_name": "Python 3",
   "language": "python",
   "name": "python3"
  },
  "language_info": {
   "codemirror_mode": {
    "name": "ipython",
    "version": 3
   },
   "file_extension": ".py",
   "mimetype": "text/x-python",
   "name": "python",
   "nbconvert_exporter": "python",
   "pygments_lexer": "ipython3",
   "version": "3.7.6"
  }
 },
 "nbformat": 4,
 "nbformat_minor": 4
}
