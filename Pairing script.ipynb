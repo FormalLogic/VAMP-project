{
 "cells": [
  {
   "cell_type": "markdown",
   "metadata": {},
   "source": [
    "# Grouping script for VAMP\n",
    "\n",
    "## 1. Set up\n",
    "\n",
    "- Load csv file into a dataframe\n",
    "    - Gender, Location, and Nationality are loaded as categorical\n",
    "- Initialize variables\n",
    "    - *teamNumberIndex* keeps track of which team is currently being build\n",
    "    - *teamSize* is the amount of students in a team\n",
    "    - *df_teams* will be the dataframe where we save the teams computed."
   ]
  },
  {
   "cell_type": "code",
   "execution_count": 1,
   "metadata": {},
   "outputs": [],
   "source": [
    "import math\n",
    "import pandas as pd\n",
    "import numpy as np\n",
    "\n",
    "teamNumberIndex = 0\n",
    "teamSize = 4\n",
    "df_teams = pd.DataFrame(columns=['first_name', 'last_name', 'Team'])\n",
    "\n",
    "#Load the data\n",
    "df = pd.read_csv('MOCK_DATA.csv', dtype={'Gender' : 'category', 'Location' : 'category', 'Nationality' : 'category'})\n",
    "\n",
    "#Create a dataframe to store team results\n",
    "\n",
    "#Add a new collumn which keeps track of which student has been put into team so far\n",
    "df['studentID'] = np.arange(len(df))\n",
    "#del df['id']"
   ]
  },
  {
   "cell_type": "markdown",
   "metadata": {},
   "source": [
    "## 2. Understand the data\n",
    "\n",
    "The cells below are commands use to understand the data. For cate"
   ]
  },
  {
   "cell_type": "code",
   "execution_count": 2,
   "metadata": {
    "scrolled": true
   },
   "outputs": [
    {
     "data": {
      "text/plain": [
       "count    100.000000\n",
       "mean      22.130000\n",
       "std        2.376888\n",
       "min       18.000000\n",
       "25%       20.000000\n",
       "50%       22.000000\n",
       "75%       23.000000\n",
       "max       29.000000\n",
       "Name: Age, dtype: float64"
      ]
     },
     "execution_count": 2,
     "metadata": {},
     "output_type": "execute_result"
    }
   ],
   "source": [
    "df.Age.describe()"
   ]
  },
  {
   "cell_type": "code",
   "execution_count": 3,
   "metadata": {},
   "outputs": [
    {
     "data": {
      "text/plain": [
       "South west    23\n",
       "Center        22\n",
       "South east    20\n",
       "North west    20\n",
       "North east    15\n",
       "Name: Location, dtype: int64"
      ]
     },
     "execution_count": 3,
     "metadata": {},
     "output_type": "execute_result"
    }
   ],
   "source": [
    "df['Location'].value_counts()"
   ]
  },
  {
   "cell_type": "code",
   "execution_count": 4,
   "metadata": {},
   "outputs": [
    {
     "data": {
      "text/plain": [
       "count            100\n",
       "unique             5\n",
       "top       South west\n",
       "freq              23\n",
       "Name: Location, dtype: object"
      ]
     },
     "execution_count": 4,
     "metadata": {},
     "output_type": "execute_result"
    }
   ],
   "source": [
    "df.Location.describe()"
   ]
  },
  {
   "cell_type": "code",
   "execution_count": 5,
   "metadata": {},
   "outputs": [
    {
     "data": {
      "text/plain": [
       "count       100\n",
       "unique       40\n",
       "top       China\n",
       "freq         16\n",
       "Name: Nationality, dtype: object"
      ]
     },
     "execution_count": 5,
     "metadata": {},
     "output_type": "execute_result"
    }
   ],
   "source": [
    "df.Nationality.describe()"
   ]
  },
  {
   "cell_type": "markdown",
   "metadata": {},
   "source": [
    "## 3. Search for a team\n",
    "The following were the criteria for a team\n",
    "\n",
    "- Gender diversity\n",
    "- Diversity in nationalities\n",
    "- Student who live live near each other should be paired up\n",
    "\n",
    "Getting students from the same location is done easily in pandas. The operation is described as removing rows (students) from the dataframe which satisfies a boolean. In other words, only consider a subset of students who are in the same location. The following python line creates a new dataframe with all of the students who are in the same location.\n",
    "\n",
    "*df_condition = df[df.Location == 'South east']*\n",
    "\n",
    "The other two conditions is harder to satisfy. An randomized approached will be taken where a user manually checks whether the students randomly matched is 'satisfiable.' If not, then re-run the cell and another set up students will be randomly matched up within the same location. \n"
   ]
  },
  {
   "cell_type": "code",
   "execution_count": 6,
   "metadata": {
    "scrolled": true
   },
   "outputs": [
    {
     "name": "stdout",
     "output_type": "stream",
     "text": [
      "There are 100 student left\n",
      "\n",
      " \n",
      " Random search gave the following potential team \n",
      "\n",
      "   first_name  last_name  Gender    Location    Nationality  Age  studentID\n",
      "91   Jessalyn   Thickens  Female  South east     Kazakhstan   23         91\n",
      "53      Sibyl     Ambrus    Male  South east  United States   22         53\n",
      "40    Filippo  Llewellyn    Male  South east         Greece   25         40\n",
      "65     Elliot     McGuff    Male  South east          Chile   20         65\n"
     ]
    }
   ],
   "source": [
    "\n",
    "\n",
    "print(\"There are {0} student left\".format(len(df))) \n",
    "\n",
    "df_condition = df[df.Location == 'South east']            \n",
    "\n",
    "    \n",
    "#Select 4 random to be put into a group from the new dataframe which includes only students from South east\n",
    "selectedStudents = np.random.choice(df_condition['studentID'].values, teamSize, replace = False)\n",
    "team = df.loc[selectedStudents]\n",
    "print(\"\\n \\n Random search gave the following potential team \\n\")\n",
    "print(team)\n",
    "\n",
    "\n",
    "\n"
   ]
  },
  {
   "cell_type": "markdown",
   "metadata": {},
   "source": [
    "## 4. Team creation\n",
    "\n",
    "If the above team attributes looks acceptable then we will.\n",
    "\n",
    "- Adds the team of students to our final dataframe containing all of our teams (*df_teams*)\n",
    "- Remove the team of students from the dataframe object which includes all of the unteamed students\n",
    "\n"
   ]
  },
  {
   "cell_type": "code",
   "execution_count": 7,
   "metadata": {},
   "outputs": [
    {
     "name": "stdout",
     "output_type": "stream",
     "text": [
      "Teams found so far \n",
      " \n",
      "   first_name  last_name Team\n",
      "91   Jessalyn   Thickens    1\n",
      "53      Sibyl     Ambrus    1\n",
      "40    Filippo  Llewellyn    1\n",
      "65     Elliot     McGuff    1\n"
     ]
    }
   ],
   "source": [
    "teamNumberIndex = teamNumberIndex + 1\n",
    "\n",
    "#Remove students from the dataframe containing all of the unteamed students\n",
    "df = df.drop(selectedStudents)\n",
    "\n",
    "#Create a new collumn where we denote the team number\n",
    "team['Team'] = [teamNumberIndex]*teamSize\n",
    "#Remove uncesserary collumns from the final team output\n",
    "team = team.drop(['Gender', 'Nationality', 'Age', 'Location', 'studentID'],axis=1)\n",
    "\n",
    "\n",
    "#Add the found team to our dataframe containing all of the teams\n",
    "df_teams = df_teams.append(team)\n",
    "\n",
    "print(\"Teams found so far \\n \")\n",
    "print(df_teams)"
   ]
  },
  {
   "cell_type": "markdown",
   "metadata": {},
   "source": [
    "## 5. Output results \n",
    "- Output results to an excel file\n",
    "- Excel file will be posted to a folder called 'results' (the **results** folder is located in the same folder as the jupyter notebook)"
   ]
  },
  {
   "cell_type": "code",
   "execution_count": 8,
   "metadata": {},
   "outputs": [],
   "source": [
    "df_teams.to_excel(\"results/teams.xls\")"
   ]
  },
  {
   "cell_type": "markdown",
   "metadata": {},
   "source": [
    "## 6. Conclusion\n",
    "Re-run section 3 and 4 until all students have been give into a team. If there is uneven amount of students left unteamed, then just group these students manually."
   ]
  }
 ],
 "metadata": {
  "kernelspec": {
   "display_name": "Python 3",
   "language": "python",
   "name": "python3"
  },
  "language_info": {
   "codemirror_mode": {
    "name": "ipython",
    "version": 3
   },
   "file_extension": ".py",
   "mimetype": "text/x-python",
   "name": "python",
   "nbconvert_exporter": "python",
   "pygments_lexer": "ipython3",
   "version": "3.7.6"
  }
 },
 "nbformat": 4,
 "nbformat_minor": 4
}
